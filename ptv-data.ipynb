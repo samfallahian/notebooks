{
 "cells": [
  {
   "cell_type": "code",
   "execution_count": 1,
   "metadata": {
    "collapsed": true
   },
   "outputs": [],
   "source": [
    "import pandas as pd"
   ]
  },
  {
   "cell_type": "code",
   "execution_count": 3,
   "outputs": [],
   "source": [
    "df = pd.read_pickle(\"dataset/test.pkl\", compression=\"zip\")"
   ],
   "metadata": {
    "collapsed": false
   }
  },
  {
   "cell_type": "code",
   "execution_count": 4,
   "outputs": [
    {
     "data": {
      "text/plain": "       x     y     z    vx    vy    vz    px    py    pz  distance  speed\n0 -117.0  87.0 -33.0  0.47  0.03  0.03  1.90 -0.53  0.57     150.0  5.232\n1 -113.0  87.0 -33.0  0.47  0.04  0.03  2.00 -0.34  0.76     146.0  5.232\n2 -109.0  87.0 -33.0  0.47  0.04  0.02  2.16 -0.05  0.95     143.0  5.232\n3 -105.0  87.0 -33.0  0.47  0.04  0.02  2.33  0.27  1.10     140.0  5.232\n4 -101.0  87.0 -33.0  0.48  0.04  0.01  2.48  0.49  1.17     137.0  5.232",
      "text/html": "<div>\n<style scoped>\n    .dataframe tbody tr th:only-of-type {\n        vertical-align: middle;\n    }\n\n    .dataframe tbody tr th {\n        vertical-align: top;\n    }\n\n    .dataframe thead th {\n        text-align: right;\n    }\n</style>\n<table border=\"1\" class=\"dataframe\">\n  <thead>\n    <tr style=\"text-align: right;\">\n      <th></th>\n      <th>x</th>\n      <th>y</th>\n      <th>z</th>\n      <th>vx</th>\n      <th>vy</th>\n      <th>vz</th>\n      <th>px</th>\n      <th>py</th>\n      <th>pz</th>\n      <th>distance</th>\n      <th>speed</th>\n    </tr>\n  </thead>\n  <tbody>\n    <tr>\n      <th>0</th>\n      <td>-117.0</td>\n      <td>87.0</td>\n      <td>-33.0</td>\n      <td>0.47</td>\n      <td>0.03</td>\n      <td>0.03</td>\n      <td>1.90</td>\n      <td>-0.53</td>\n      <td>0.57</td>\n      <td>150.0</td>\n      <td>5.232</td>\n    </tr>\n    <tr>\n      <th>1</th>\n      <td>-113.0</td>\n      <td>87.0</td>\n      <td>-33.0</td>\n      <td>0.47</td>\n      <td>0.04</td>\n      <td>0.03</td>\n      <td>2.00</td>\n      <td>-0.34</td>\n      <td>0.76</td>\n      <td>146.0</td>\n      <td>5.232</td>\n    </tr>\n    <tr>\n      <th>2</th>\n      <td>-109.0</td>\n      <td>87.0</td>\n      <td>-33.0</td>\n      <td>0.47</td>\n      <td>0.04</td>\n      <td>0.02</td>\n      <td>2.16</td>\n      <td>-0.05</td>\n      <td>0.95</td>\n      <td>143.0</td>\n      <td>5.232</td>\n    </tr>\n    <tr>\n      <th>3</th>\n      <td>-105.0</td>\n      <td>87.0</td>\n      <td>-33.0</td>\n      <td>0.47</td>\n      <td>0.04</td>\n      <td>0.02</td>\n      <td>2.33</td>\n      <td>0.27</td>\n      <td>1.10</td>\n      <td>140.0</td>\n      <td>5.232</td>\n    </tr>\n    <tr>\n      <th>4</th>\n      <td>-101.0</td>\n      <td>87.0</td>\n      <td>-33.0</td>\n      <td>0.48</td>\n      <td>0.04</td>\n      <td>0.01</td>\n      <td>2.48</td>\n      <td>0.49</td>\n      <td>1.17</td>\n      <td>137.0</td>\n      <td>5.232</td>\n    </tr>\n  </tbody>\n</table>\n</div>"
     },
     "execution_count": 4,
     "metadata": {},
     "output_type": "execute_result"
    }
   ],
   "source": [
    "df.head()"
   ],
   "metadata": {
    "collapsed": false
   }
  },
  {
   "cell_type": "code",
   "execution_count": 6,
   "outputs": [
    {
     "data": {
      "text/plain": "       x     y     z    vx    vy    vz    px    py    pz  distance  speed\n0 -117.0  87.0 -33.0  0.47  0.03  0.03  1.90 -0.53  0.57     150.0  5.232\n1 -113.0  87.0 -33.0  0.47  0.04  0.03  2.00 -0.34  0.76     146.0  5.232\n2 -109.0  87.0 -33.0  0.47  0.04  0.02  2.16 -0.05  0.95     143.0  5.232\n3 -105.0  87.0 -33.0  0.47  0.04  0.02  2.33  0.27  1.10     140.0  5.232\n4 -101.0  87.0 -33.0  0.48  0.04  0.01  2.48  0.49  1.17     137.0  5.232",
      "text/html": "<div>\n<style scoped>\n    .dataframe tbody tr th:only-of-type {\n        vertical-align: middle;\n    }\n\n    .dataframe tbody tr th {\n        vertical-align: top;\n    }\n\n    .dataframe thead th {\n        text-align: right;\n    }\n</style>\n<table border=\"1\" class=\"dataframe\">\n  <thead>\n    <tr style=\"text-align: right;\">\n      <th></th>\n      <th>x</th>\n      <th>y</th>\n      <th>z</th>\n      <th>vx</th>\n      <th>vy</th>\n      <th>vz</th>\n      <th>px</th>\n      <th>py</th>\n      <th>pz</th>\n      <th>distance</th>\n      <th>speed</th>\n    </tr>\n  </thead>\n  <tbody>\n    <tr>\n      <th>0</th>\n      <td>-117.0</td>\n      <td>87.0</td>\n      <td>-33.0</td>\n      <td>0.47</td>\n      <td>0.03</td>\n      <td>0.03</td>\n      <td>1.90</td>\n      <td>-0.53</td>\n      <td>0.57</td>\n      <td>150.0</td>\n      <td>5.232</td>\n    </tr>\n    <tr>\n      <th>1</th>\n      <td>-113.0</td>\n      <td>87.0</td>\n      <td>-33.0</td>\n      <td>0.47</td>\n      <td>0.04</td>\n      <td>0.03</td>\n      <td>2.00</td>\n      <td>-0.34</td>\n      <td>0.76</td>\n      <td>146.0</td>\n      <td>5.232</td>\n    </tr>\n    <tr>\n      <th>2</th>\n      <td>-109.0</td>\n      <td>87.0</td>\n      <td>-33.0</td>\n      <td>0.47</td>\n      <td>0.04</td>\n      <td>0.02</td>\n      <td>2.16</td>\n      <td>-0.05</td>\n      <td>0.95</td>\n      <td>143.0</td>\n      <td>5.232</td>\n    </tr>\n    <tr>\n      <th>3</th>\n      <td>-105.0</td>\n      <td>87.0</td>\n      <td>-33.0</td>\n      <td>0.47</td>\n      <td>0.04</td>\n      <td>0.02</td>\n      <td>2.33</td>\n      <td>0.27</td>\n      <td>1.10</td>\n      <td>140.0</td>\n      <td>5.232</td>\n    </tr>\n    <tr>\n      <th>4</th>\n      <td>-101.0</td>\n      <td>87.0</td>\n      <td>-33.0</td>\n      <td>0.48</td>\n      <td>0.04</td>\n      <td>0.01</td>\n      <td>2.48</td>\n      <td>0.49</td>\n      <td>1.17</td>\n      <td>137.0</td>\n      <td>5.232</td>\n    </tr>\n  </tbody>\n</table>\n</div>"
     },
     "execution_count": 6,
     "metadata": {},
     "output_type": "execute_result"
    }
   ],
   "source": [
    "df.head()"
   ],
   "metadata": {
    "collapsed": false
   }
  },
  {
   "cell_type": "code",
   "execution_count": 8,
   "outputs": [
    {
     "data": {
      "text/plain": "(304116, 11)"
     },
     "execution_count": 8,
     "metadata": {},
     "output_type": "execute_result"
    }
   ],
   "source": [
    "df.shape"
   ],
   "metadata": {
    "collapsed": false
   }
  },
  {
   "cell_type": "code",
   "execution_count": null,
   "outputs": [],
   "source": [
    "speeds = [5.232,6.528,6.852,7.824,9.768,10.092]\n",
    "data =[]\n",
    "for speed in speeds:\n",
    "    dataset = df[df[\"speed\"]==speed][:500,:]\n",
    "    data.append(dataset)\n"
   ],
   "metadata": {
    "collapsed": false
   }
  },
  {
   "cell_type": "code",
   "execution_count": 28,
   "outputs": [
    {
     "data": {
      "text/plain": "Empty DataFrame\nColumns: [x, y, z, vx, vy, vz, px, py, pz, distance, speed]\nIndex: []",
      "text/html": "<div>\n<style scoped>\n    .dataframe tbody tr th:only-of-type {\n        vertical-align: middle;\n    }\n\n    .dataframe tbody tr th {\n        vertical-align: top;\n    }\n\n    .dataframe thead th {\n        text-align: right;\n    }\n</style>\n<table border=\"1\" class=\"dataframe\">\n  <thead>\n    <tr style=\"text-align: right;\">\n      <th></th>\n      <th>x</th>\n      <th>y</th>\n      <th>z</th>\n      <th>vx</th>\n      <th>vy</th>\n      <th>vz</th>\n      <th>px</th>\n      <th>py</th>\n      <th>pz</th>\n      <th>distance</th>\n      <th>speed</th>\n    </tr>\n  </thead>\n  <tbody>\n  </tbody>\n</table>\n</div>"
     },
     "execution_count": 28,
     "metadata": {},
     "output_type": "execute_result"
    }
   ],
   "source": [
    "df[df[\"speed\"]==6.852]"
   ],
   "metadata": {
    "collapsed": false
   }
  },
  {
   "cell_type": "code",
   "execution_count": 24,
   "outputs": [
    {
     "data": {
      "text/plain": "            x      y      z     vx     vy     vz     px     py     pz  \\\nspeed                                                                   \n5.232   50686  50686  50686  50686  50686  50686  50686  50686  50686   \n6.528   50686  50686  50686  50686  50686  50686  50686  50686  50686   \n6.852   50686  50686  50686  50686  50686  50686  50686  50686  50686   \n7.824   50686  50686  50686  50686  50686  50686  50686  50686  50686   \n9.768   50686  50686  50686  50686  50686  50686  50686  50686  50686   \n10.092  50686  50686  50686  50686  50686  50686  50686  50686  50686   \n\n        distance  \nspeed             \n5.232      50686  \n6.528      50686  \n6.852      50686  \n7.824      50686  \n9.768      50686  \n10.092     50686  ",
      "text/html": "<div>\n<style scoped>\n    .dataframe tbody tr th:only-of-type {\n        vertical-align: middle;\n    }\n\n    .dataframe tbody tr th {\n        vertical-align: top;\n    }\n\n    .dataframe thead th {\n        text-align: right;\n    }\n</style>\n<table border=\"1\" class=\"dataframe\">\n  <thead>\n    <tr style=\"text-align: right;\">\n      <th></th>\n      <th>x</th>\n      <th>y</th>\n      <th>z</th>\n      <th>vx</th>\n      <th>vy</th>\n      <th>vz</th>\n      <th>px</th>\n      <th>py</th>\n      <th>pz</th>\n      <th>distance</th>\n    </tr>\n    <tr>\n      <th>speed</th>\n      <th></th>\n      <th></th>\n      <th></th>\n      <th></th>\n      <th></th>\n      <th></th>\n      <th></th>\n      <th></th>\n      <th></th>\n      <th></th>\n    </tr>\n  </thead>\n  <tbody>\n    <tr>\n      <th>5.232</th>\n      <td>50686</td>\n      <td>50686</td>\n      <td>50686</td>\n      <td>50686</td>\n      <td>50686</td>\n      <td>50686</td>\n      <td>50686</td>\n      <td>50686</td>\n      <td>50686</td>\n      <td>50686</td>\n    </tr>\n    <tr>\n      <th>6.528</th>\n      <td>50686</td>\n      <td>50686</td>\n      <td>50686</td>\n      <td>50686</td>\n      <td>50686</td>\n      <td>50686</td>\n      <td>50686</td>\n      <td>50686</td>\n      <td>50686</td>\n      <td>50686</td>\n    </tr>\n    <tr>\n      <th>6.852</th>\n      <td>50686</td>\n      <td>50686</td>\n      <td>50686</td>\n      <td>50686</td>\n      <td>50686</td>\n      <td>50686</td>\n      <td>50686</td>\n      <td>50686</td>\n      <td>50686</td>\n      <td>50686</td>\n    </tr>\n    <tr>\n      <th>7.824</th>\n      <td>50686</td>\n      <td>50686</td>\n      <td>50686</td>\n      <td>50686</td>\n      <td>50686</td>\n      <td>50686</td>\n      <td>50686</td>\n      <td>50686</td>\n      <td>50686</td>\n      <td>50686</td>\n    </tr>\n    <tr>\n      <th>9.768</th>\n      <td>50686</td>\n      <td>50686</td>\n      <td>50686</td>\n      <td>50686</td>\n      <td>50686</td>\n      <td>50686</td>\n      <td>50686</td>\n      <td>50686</td>\n      <td>50686</td>\n      <td>50686</td>\n    </tr>\n    <tr>\n      <th>10.092</th>\n      <td>50686</td>\n      <td>50686</td>\n      <td>50686</td>\n      <td>50686</td>\n      <td>50686</td>\n      <td>50686</td>\n      <td>50686</td>\n      <td>50686</td>\n      <td>50686</td>\n      <td>50686</td>\n    </tr>\n  </tbody>\n</table>\n</div>"
     },
     "execution_count": 24,
     "metadata": {},
     "output_type": "execute_result"
    }
   ],
   "source": [
    "df.groupby([\"speed\"]).count()"
   ],
   "metadata": {
    "collapsed": false
   }
  },
  {
   "cell_type": "code",
   "execution_count": null,
   "outputs": [],
   "source": [],
   "metadata": {
    "collapsed": false
   }
  }
 ],
 "metadata": {
  "kernelspec": {
   "display_name": "Python 3",
   "language": "python",
   "name": "python3"
  },
  "language_info": {
   "codemirror_mode": {
    "name": "ipython",
    "version": 2
   },
   "file_extension": ".py",
   "mimetype": "text/x-python",
   "name": "python",
   "nbconvert_exporter": "python",
   "pygments_lexer": "ipython2",
   "version": "2.7.6"
  }
 },
 "nbformat": 4,
 "nbformat_minor": 0
}
