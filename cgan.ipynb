{
 "cells": [
  {
   "cell_type": "code",
   "execution_count": 25,
   "metadata": {
    "collapsed": true
   },
   "outputs": [],
   "source": [
    "import torch\n",
    "import torch.nn as nn\n",
    "import torch.optim as optim\n",
    "from torch.utils.data import Dataset, DataLoader"
   ]
  },
  {
   "cell_type": "code",
   "execution_count": 3,
   "outputs": [],
   "source": [
    "import pandas as pd"
   ],
   "metadata": {
    "collapsed": false
   }
  },
  {
   "cell_type": "code",
   "execution_count": 4,
   "outputs": [],
   "source": [
    "df = pd.read_pickle(\"dataset/test_500.pkl\", compression=\"zip\")"
   ],
   "metadata": {
    "collapsed": false
   }
  },
  {
   "cell_type": "code",
   "execution_count": 5,
   "outputs": [
    {
     "data": {
      "text/plain": "       x     y     z    vx    vy    vz    px    py    pz  distance  speed  \\\n0 -117.0  87.0 -33.0  0.47  0.03  0.03  1.90 -0.53  0.57     150.0  5.232   \n1 -117.0  87.0 -33.0  0.47  0.03  0.03  1.90 -0.53  0.57     150.0  5.232   \n2 -113.0  87.0 -33.0  0.47  0.04  0.03  2.00 -0.34  0.76     146.0  5.232   \n3 -113.0  87.0 -33.0  0.47  0.04  0.03  2.00 -0.34  0.76     146.0  5.232   \n4 -109.0  87.0 -33.0  0.47  0.04  0.02  2.16 -0.05  0.95     143.0  5.232   \n\n   label  \n0      3  \n1  50691  \n2      4  \n3  50692  \n4      5  ",
      "text/html": "<div>\n<style scoped>\n    .dataframe tbody tr th:only-of-type {\n        vertical-align: middle;\n    }\n\n    .dataframe tbody tr th {\n        vertical-align: top;\n    }\n\n    .dataframe thead th {\n        text-align: right;\n    }\n</style>\n<table border=\"1\" class=\"dataframe\">\n  <thead>\n    <tr style=\"text-align: right;\">\n      <th></th>\n      <th>x</th>\n      <th>y</th>\n      <th>z</th>\n      <th>vx</th>\n      <th>vy</th>\n      <th>vz</th>\n      <th>px</th>\n      <th>py</th>\n      <th>pz</th>\n      <th>distance</th>\n      <th>speed</th>\n      <th>label</th>\n    </tr>\n  </thead>\n  <tbody>\n    <tr>\n      <th>0</th>\n      <td>-117.0</td>\n      <td>87.0</td>\n      <td>-33.0</td>\n      <td>0.47</td>\n      <td>0.03</td>\n      <td>0.03</td>\n      <td>1.90</td>\n      <td>-0.53</td>\n      <td>0.57</td>\n      <td>150.0</td>\n      <td>5.232</td>\n      <td>3</td>\n    </tr>\n    <tr>\n      <th>1</th>\n      <td>-117.0</td>\n      <td>87.0</td>\n      <td>-33.0</td>\n      <td>0.47</td>\n      <td>0.03</td>\n      <td>0.03</td>\n      <td>1.90</td>\n      <td>-0.53</td>\n      <td>0.57</td>\n      <td>150.0</td>\n      <td>5.232</td>\n      <td>50691</td>\n    </tr>\n    <tr>\n      <th>2</th>\n      <td>-113.0</td>\n      <td>87.0</td>\n      <td>-33.0</td>\n      <td>0.47</td>\n      <td>0.04</td>\n      <td>0.03</td>\n      <td>2.00</td>\n      <td>-0.34</td>\n      <td>0.76</td>\n      <td>146.0</td>\n      <td>5.232</td>\n      <td>4</td>\n    </tr>\n    <tr>\n      <th>3</th>\n      <td>-113.0</td>\n      <td>87.0</td>\n      <td>-33.0</td>\n      <td>0.47</td>\n      <td>0.04</td>\n      <td>0.03</td>\n      <td>2.00</td>\n      <td>-0.34</td>\n      <td>0.76</td>\n      <td>146.0</td>\n      <td>5.232</td>\n      <td>50692</td>\n    </tr>\n    <tr>\n      <th>4</th>\n      <td>-109.0</td>\n      <td>87.0</td>\n      <td>-33.0</td>\n      <td>0.47</td>\n      <td>0.04</td>\n      <td>0.02</td>\n      <td>2.16</td>\n      <td>-0.05</td>\n      <td>0.95</td>\n      <td>143.0</td>\n      <td>5.232</td>\n      <td>5</td>\n    </tr>\n  </tbody>\n</table>\n</div>"
     },
     "execution_count": 5,
     "metadata": {},
     "output_type": "execute_result"
    }
   ],
   "source": [
    "df.head()"
   ],
   "metadata": {
    "collapsed": false
   }
  },
  {
   "cell_type": "code",
   "execution_count": 23,
   "outputs": [
    {
     "data": {
      "text/plain": "(numpy.ndarray, (1000,))"
     },
     "execution_count": 23,
     "metadata": {},
     "output_type": "execute_result"
    }
   ],
   "source": [
    "labels = df[\"label\"].unique()\n",
    "type(labels), labels.shape"
   ],
   "metadata": {
    "collapsed": false
   }
  },
  {
   "cell_type": "code",
   "execution_count": 49,
   "outputs": [
    {
     "data": {
      "text/plain": "array([[3.0000e+00],\n       [5.0691e+04],\n       [4.0000e+00],\n       ...,\n       [5.1189e+04],\n       [5.0200e+02],\n       [5.1190e+04]])"
     },
     "execution_count": 49,
     "metadata": {},
     "output_type": "execute_result"
    }
   ],
   "source": [
    "# df.to_numpy()[:,11:]"
   ],
   "metadata": {
    "collapsed": false
   }
  },
  {
   "cell_type": "code",
   "execution_count": 187,
   "outputs": [
    {
     "data": {
      "text/plain": "((6000, 11), (6000, 1))"
     },
     "execution_count": 187,
     "metadata": {},
     "output_type": "execute_result"
    }
   ],
   "source": [
    "data = df.to_numpy()[:,:11]\n",
    "labels = df.to_numpy()[:,11:]\n",
    "data.shape, labels.shape\n",
    "\n",
    "# data = df.to_numpy()"
   ],
   "metadata": {
    "collapsed": false
   }
  },
  {
   "cell_type": "code",
   "execution_count": 188,
   "outputs": [],
   "source": [
    "num_epochs = 50\n",
    "batch_size = 32\n",
    "class_labels = df[\"label\"].unique()\n",
    "num_classes = len(class_labels)"
   ],
   "metadata": {
    "collapsed": false
   }
  },
  {
   "cell_type": "code",
   "execution_count": 189,
   "outputs": [],
   "source": [
    "class MyDataset(Dataset):\n",
    "    def __init__(self, data,labels):\n",
    "        # self.data = torch.tensor(data).float()\n",
    "        self.data = torch.tensor(data, dtype=torch.float32)\n",
    "        self.labels = torch.tensor(labels, dtype=torch.int64)\n",
    "        # self.labels = torch.tensor(data).float()\n",
    "\n",
    "    def __len__(self):\n",
    "        return len(self.data)\n",
    "\n",
    "    def __getitem__(self, idx):\n",
    "        return self.data[idx] , self.labels[idx]"
   ],
   "metadata": {
    "collapsed": false
   }
  },
  {
   "cell_type": "code",
   "execution_count": 148,
   "outputs": [],
   "source": [
    "# from torch.utils.data import TensorDataset, DataLoader\n",
    "# Create instances of the dataset\n",
    "# dataset = MyDataset(data)\n",
    "#\n",
    "# # Create a dataloader with a batch size of 32 and shuffle the data\n",
    "# data_loader = DataLoader(dataset, batch_size=batch_size, shuffle=True)\n",
    "\n",
    "# dataset = TensorDataset(torch.tensor(data, dtype=torch.float32), torch.tensor(labels, dtype=torch.int64))"
   ],
   "metadata": {
    "collapsed": false
   }
  },
  {
   "cell_type": "code",
   "execution_count": 149,
   "outputs": [
    {
     "data": {
      "text/plain": "(6000, 12)"
     },
     "execution_count": 149,
     "metadata": {},
     "output_type": "execute_result"
    }
   ],
   "source": [
    "data.shape"
   ],
   "metadata": {
    "collapsed": false
   }
  },
  {
   "cell_type": "code",
   "execution_count": 190,
   "outputs": [],
   "source": [
    "# from torch.utils.data import Dataset, DataLoader\n",
    "#\n",
    "# class MyDataset(Dataset):\n",
    "#     def __init__(self, data, labels):\n",
    "#         self.data = data\n",
    "#         self.labels = labels\n",
    "#\n",
    "#     def __len__(self):\n",
    "#         return len(self.data)\n",
    "#\n",
    "#     def __getitem__(self, idx):\n",
    "#         return self.data[idx], self.labels[idx]\n",
    "\n",
    "# Create instances of the dataset\n",
    "dataset = MyDataset(data, labels)\n",
    "\n",
    "# Create a dataloader with a batch size of 32 and shuffle the data\n",
    "train_data = DataLoader(dataset, batch_size=batch_size, shuffle=True)"
   ],
   "metadata": {
    "collapsed": false
   }
  },
  {
   "cell_type": "code",
   "execution_count": 191,
   "outputs": [],
   "source": [
    "# Define the generator and discriminator networks\n",
    "class Generator(nn.Module):\n",
    "    def __init__(self):\n",
    "        super(Generator, self).__init__()\n",
    "        self.layer1 = nn.Linear(12, 64)  # added 1 more input for the label\n",
    "        self.layer2 = nn.Linear(64, 128)\n",
    "        self.layer3 = nn.Linear(128, 256)\n",
    "        self.layer4 = nn.Linear(256, 512)\n",
    "        self.output = nn.Linear(512, 11)\n",
    "\n",
    "    def forward(self, x):\n",
    "        x = torch.relu(self.layer1(x))\n",
    "        x = torch.relu(self.layer2(x))\n",
    "        x = torch.relu(self.layer3(x))\n",
    "        x = torch.relu(self.layer4(x))\n",
    "        x = self.output(x)\n",
    "        return x\n",
    "\n",
    "class Discriminator(nn.Module):\n",
    "    def __init__(self):\n",
    "        super(Discriminator, self).__init__()\n",
    "        self.layer1 = nn.Linear(11, 64)\n",
    "        self.layer2 = nn.Linear(64, 128)\n",
    "        self.layer3 = nn.Linear(128, 256)\n",
    "        self.output = nn.Linear(256, 1)\n",
    "\n",
    "    def forward(self, x):\n",
    "        x = torch.relu(self.layer1(x))\n",
    "        x = torch.relu(self.layer2(x))\n",
    "        x = torch.relu(self.layer3(x))\n",
    "        x = torch.sigmoid(self.output(x))\n",
    "        return x"
   ],
   "metadata": {
    "collapsed": false
   }
  },
  {
   "cell_type": "code",
   "execution_count": 192,
   "outputs": [],
   "source": [
    "# Create instances of the generator and discriminator\n",
    "generator = Generator()\n",
    "discriminator = Discriminator()"
   ],
   "metadata": {
    "collapsed": false
   }
  },
  {
   "cell_type": "code",
   "execution_count": 193,
   "outputs": [],
   "source": [
    "criterion = nn.BCELoss()\n",
    "gen_optimizer = optim.Adam(generator.parameters(), lr=0.0001)\n",
    "disc_optimizer = optim.Adam(discriminator.parameters(), lr=0.0001)\n"
   ],
   "metadata": {
    "collapsed": false
   }
  },
  {
   "cell_type": "code",
   "execution_count": 156,
   "outputs": [],
   "source": [
    "# Generate a random permutation of the class labels\n",
    "random_indices = torch.randperm(num_classes)\n",
    "\n",
    "# Create a tensor of random class labels\n",
    "random_class_labels = torch.tensor([class_labels[i] for i in random_indices])\n",
    "\n",
    "\n",
    "# random_indices = torch.randint(0, num_classes-1, (batch_size, 1))\n",
    "# labels = random_class_labels[random_indices] # generate random labels"
   ],
   "metadata": {
    "collapsed": false
   }
  },
  {
   "cell_type": "code",
   "execution_count": null,
   "outputs": [],
   "source": [
    "random_indices = torch.randint(0, len(class_labels)-1, (batch_size, 1))\n",
    "labels = random_class_labels[random_indices] # generate random labels"
   ],
   "metadata": {
    "collapsed": false
   }
  },
  {
   "cell_type": "code",
   "execution_count": null,
   "outputs": [],
   "source": [],
   "metadata": {
    "collapsed": false
   }
  },
  {
   "cell_type": "code",
   "execution_count": null,
   "outputs": [],
   "source": [],
   "metadata": {
    "collapsed": false
   }
  },
  {
   "cell_type": "code",
   "execution_count": 157,
   "outputs": [
    {
     "data": {
      "text/plain": "<torch.utils.data.dataloader.DataLoader at 0x21251f3a880>"
     },
     "execution_count": 157,
     "metadata": {},
     "output_type": "execute_result"
    }
   ],
   "source": [
    "train_data"
   ],
   "metadata": {
    "collapsed": false
   }
  },
  {
   "cell_type": "code",
   "execution_count": null,
   "outputs": [],
   "source": [
    "# random_indices = torch.randint(0, len(class_labels)-1, (batch_size, 1))\n",
    "# labels = random_class_labels[random_indices] # generate random labels\n",
    "# labels = torch.randint(0, num_classes, (batch_size, 1))\n",
    "# fake_data = fake_data.view(-1,11)"
   ],
   "metadata": {
    "collapsed": false
   }
  },
  {
   "cell_type": "code",
   "execution_count": 205,
   "outputs": [
    {
     "name": "stdout",
     "output_type": "stream",
     "text": [
      "Epoch 1: \n",
      "Generator Loss: 18.613555908203125\n",
      "Discriminator Loss : 100.0\n",
      "Epoch 2: \n",
      "Generator Loss: 18.71721839904785\n",
      "Discriminator Loss : 100.0\n",
      "Epoch 3: \n",
      "Generator Loss: 18.820920944213867\n",
      "Discriminator Loss : 100.0\n",
      "Epoch 4: \n",
      "Generator Loss: 18.92326545715332\n",
      "Discriminator Loss : 100.0\n",
      "Epoch 5: \n",
      "Generator Loss: 19.025487899780273\n",
      "Discriminator Loss : 100.0\n",
      "Epoch 6: \n",
      "Generator Loss: 19.126768112182617\n",
      "Discriminator Loss : 100.0\n",
      "Epoch 7: \n",
      "Generator Loss: 19.228456497192383\n",
      "Discriminator Loss : 100.0\n",
      "Epoch 8: \n",
      "Generator Loss: 19.3303279876709\n",
      "Discriminator Loss : 100.0\n",
      "Epoch 9: \n",
      "Generator Loss: 19.43107795715332\n",
      "Discriminator Loss : 100.0\n",
      "Epoch 10: \n",
      "Generator Loss: 19.533185958862305\n",
      "Discriminator Loss : 100.0\n",
      "Epoch 11: \n",
      "Generator Loss: 19.633554458618164\n",
      "Discriminator Loss : 100.0\n",
      "Epoch 12: \n",
      "Generator Loss: 19.733858108520508\n",
      "Discriminator Loss : 100.0\n",
      "Epoch 13: \n",
      "Generator Loss: 19.834327697753906\n",
      "Discriminator Loss : 100.0\n",
      "Epoch 14: \n",
      "Generator Loss: 19.934541702270508\n",
      "Discriminator Loss : 100.0\n",
      "Epoch 15: \n",
      "Generator Loss: 20.032560348510742\n",
      "Discriminator Loss : 100.0\n",
      "Epoch 16: \n",
      "Generator Loss: 20.131776809692383\n",
      "Discriminator Loss : 100.0\n",
      "Epoch 17: \n",
      "Generator Loss: 20.231443405151367\n",
      "Discriminator Loss : 100.0\n",
      "Epoch 18: \n",
      "Generator Loss: 20.329999923706055\n",
      "Discriminator Loss : 100.0\n"
     ]
    },
    {
     "ename": "KeyboardInterrupt",
     "evalue": "",
     "output_type": "error",
     "traceback": [
      "\u001B[1;31m---------------------------------------------------------------------------\u001B[0m",
      "\u001B[1;31mKeyboardInterrupt\u001B[0m                         Traceback (most recent call last)",
      "Cell \u001B[1;32mIn[205], line 24\u001B[0m\n\u001B[0;32m     21\u001B[0m     gen_loss\u001B[38;5;241m.\u001B[39mbackward(retain_graph\u001B[38;5;241m=\u001B[39m\u001B[38;5;28;01mTrue\u001B[39;00m)\n\u001B[0;32m     22\u001B[0m     \u001B[38;5;124;03m\"\"\"retain_graph tells the autograd engine to retain the intermediate values of the graph,\u001B[39;00m\n\u001B[0;32m     23\u001B[0m \u001B[38;5;124;03m    instead of freeing them, so that they can be used in the next backward pass.\"\"\"\u001B[39;00m\n\u001B[1;32m---> 24\u001B[0m     \u001B[43mgen_optimizer\u001B[49m\u001B[38;5;241;43m.\u001B[39;49m\u001B[43mstep\u001B[49m\u001B[43m(\u001B[49m\u001B[43m)\u001B[49m\n\u001B[0;32m     26\u001B[0m \u001B[38;5;66;03m# predictions = discriminator(data)\u001B[39;00m\n\u001B[0;32m     27\u001B[0m \u001B[38;5;66;03m# print(\"Predictions for real data: \", predictions, \"with label: \", label)\u001B[39;00m\n\u001B[0;32m     28\u001B[0m \u001B[38;5;66;03m# predictions = discriminator(fake_data)\u001B[39;00m\n\u001B[0;32m     29\u001B[0m \u001B[38;5;66;03m# print(\"Predictions for fake data: \", predictions, \"with label: \", label)\u001B[39;00m\n\u001B[0;32m     30\u001B[0m \u001B[38;5;28mprint\u001B[39m(\u001B[38;5;124mf\u001B[39m\u001B[38;5;124m\"\u001B[39m\u001B[38;5;124mEpoch \u001B[39m\u001B[38;5;132;01m{\u001B[39;00mepoch \u001B[38;5;241m+\u001B[39m \u001B[38;5;241m1\u001B[39m\u001B[38;5;132;01m}\u001B[39;00m\u001B[38;5;124m: \u001B[39m\u001B[38;5;124m\"\u001B[39m)\n",
      "File \u001B[1;32mD:\\PHD\\cgan\\venv\\lib\\site-packages\\torch\\optim\\optimizer.py:140\u001B[0m, in \u001B[0;36mOptimizer._hook_for_profile.<locals>.profile_hook_step.<locals>.wrapper\u001B[1;34m(*args, **kwargs)\u001B[0m\n\u001B[0;32m    138\u001B[0m profile_name \u001B[38;5;241m=\u001B[39m \u001B[38;5;124m\"\u001B[39m\u001B[38;5;124mOptimizer.step#\u001B[39m\u001B[38;5;132;01m{}\u001B[39;00m\u001B[38;5;124m.step\u001B[39m\u001B[38;5;124m\"\u001B[39m\u001B[38;5;241m.\u001B[39mformat(obj\u001B[38;5;241m.\u001B[39m\u001B[38;5;18m__class__\u001B[39m\u001B[38;5;241m.\u001B[39m\u001B[38;5;18m__name__\u001B[39m)\n\u001B[0;32m    139\u001B[0m \u001B[38;5;28;01mwith\u001B[39;00m torch\u001B[38;5;241m.\u001B[39mautograd\u001B[38;5;241m.\u001B[39mprofiler\u001B[38;5;241m.\u001B[39mrecord_function(profile_name):\n\u001B[1;32m--> 140\u001B[0m     out \u001B[38;5;241m=\u001B[39m \u001B[43mfunc\u001B[49m\u001B[43m(\u001B[49m\u001B[38;5;241;43m*\u001B[39;49m\u001B[43margs\u001B[49m\u001B[43m,\u001B[49m\u001B[43m \u001B[49m\u001B[38;5;241;43m*\u001B[39;49m\u001B[38;5;241;43m*\u001B[39;49m\u001B[43mkwargs\u001B[49m\u001B[43m)\u001B[49m\n\u001B[0;32m    141\u001B[0m     obj\u001B[38;5;241m.\u001B[39m_optimizer_step_code()\n\u001B[0;32m    142\u001B[0m     \u001B[38;5;28;01mreturn\u001B[39;00m out\n",
      "File \u001B[1;32mD:\\PHD\\cgan\\venv\\lib\\site-packages\\torch\\optim\\optimizer.py:23\u001B[0m, in \u001B[0;36m_use_grad_for_differentiable.<locals>._use_grad\u001B[1;34m(self, *args, **kwargs)\u001B[0m\n\u001B[0;32m     21\u001B[0m \u001B[38;5;28;01mtry\u001B[39;00m:\n\u001B[0;32m     22\u001B[0m     torch\u001B[38;5;241m.\u001B[39mset_grad_enabled(\u001B[38;5;28mself\u001B[39m\u001B[38;5;241m.\u001B[39mdefaults[\u001B[38;5;124m'\u001B[39m\u001B[38;5;124mdifferentiable\u001B[39m\u001B[38;5;124m'\u001B[39m])\n\u001B[1;32m---> 23\u001B[0m     ret \u001B[38;5;241m=\u001B[39m \u001B[43mfunc\u001B[49m\u001B[43m(\u001B[49m\u001B[38;5;28;43mself\u001B[39;49m\u001B[43m,\u001B[49m\u001B[43m \u001B[49m\u001B[38;5;241;43m*\u001B[39;49m\u001B[43margs\u001B[49m\u001B[43m,\u001B[49m\u001B[43m \u001B[49m\u001B[38;5;241;43m*\u001B[39;49m\u001B[38;5;241;43m*\u001B[39;49m\u001B[43mkwargs\u001B[49m\u001B[43m)\u001B[49m\n\u001B[0;32m     24\u001B[0m \u001B[38;5;28;01mfinally\u001B[39;00m:\n\u001B[0;32m     25\u001B[0m     torch\u001B[38;5;241m.\u001B[39mset_grad_enabled(prev_grad)\n",
      "File \u001B[1;32mD:\\PHD\\cgan\\venv\\lib\\site-packages\\torch\\optim\\adam.py:234\u001B[0m, in \u001B[0;36mAdam.step\u001B[1;34m(self, closure, grad_scaler)\u001B[0m\n\u001B[0;32m    231\u001B[0m                 \u001B[38;5;28;01mraise\u001B[39;00m \u001B[38;5;167;01mRuntimeError\u001B[39;00m(\u001B[38;5;124m'\u001B[39m\u001B[38;5;124m`requires_grad` is not supported for `step` in differentiable mode\u001B[39m\u001B[38;5;124m'\u001B[39m)\n\u001B[0;32m    232\u001B[0m             state_steps\u001B[38;5;241m.\u001B[39mappend(state[\u001B[38;5;124m'\u001B[39m\u001B[38;5;124mstep\u001B[39m\u001B[38;5;124m'\u001B[39m])\n\u001B[1;32m--> 234\u001B[0m     \u001B[43madam\u001B[49m\u001B[43m(\u001B[49m\u001B[43mparams_with_grad\u001B[49m\u001B[43m,\u001B[49m\n\u001B[0;32m    235\u001B[0m \u001B[43m         \u001B[49m\u001B[43mgrads\u001B[49m\u001B[43m,\u001B[49m\n\u001B[0;32m    236\u001B[0m \u001B[43m         \u001B[49m\u001B[43mexp_avgs\u001B[49m\u001B[43m,\u001B[49m\n\u001B[0;32m    237\u001B[0m \u001B[43m         \u001B[49m\u001B[43mexp_avg_sqs\u001B[49m\u001B[43m,\u001B[49m\n\u001B[0;32m    238\u001B[0m \u001B[43m         \u001B[49m\u001B[43mmax_exp_avg_sqs\u001B[49m\u001B[43m,\u001B[49m\n\u001B[0;32m    239\u001B[0m \u001B[43m         \u001B[49m\u001B[43mstate_steps\u001B[49m\u001B[43m,\u001B[49m\n\u001B[0;32m    240\u001B[0m \u001B[43m         \u001B[49m\u001B[43mamsgrad\u001B[49m\u001B[38;5;241;43m=\u001B[39;49m\u001B[43mgroup\u001B[49m\u001B[43m[\u001B[49m\u001B[38;5;124;43m'\u001B[39;49m\u001B[38;5;124;43mamsgrad\u001B[39;49m\u001B[38;5;124;43m'\u001B[39;49m\u001B[43m]\u001B[49m\u001B[43m,\u001B[49m\n\u001B[0;32m    241\u001B[0m \u001B[43m         \u001B[49m\u001B[43mbeta1\u001B[49m\u001B[38;5;241;43m=\u001B[39;49m\u001B[43mbeta1\u001B[49m\u001B[43m,\u001B[49m\n\u001B[0;32m    242\u001B[0m \u001B[43m         \u001B[49m\u001B[43mbeta2\u001B[49m\u001B[38;5;241;43m=\u001B[39;49m\u001B[43mbeta2\u001B[49m\u001B[43m,\u001B[49m\n\u001B[0;32m    243\u001B[0m \u001B[43m         \u001B[49m\u001B[43mlr\u001B[49m\u001B[38;5;241;43m=\u001B[39;49m\u001B[43mgroup\u001B[49m\u001B[43m[\u001B[49m\u001B[38;5;124;43m'\u001B[39;49m\u001B[38;5;124;43mlr\u001B[39;49m\u001B[38;5;124;43m'\u001B[39;49m\u001B[43m]\u001B[49m\u001B[43m,\u001B[49m\n\u001B[0;32m    244\u001B[0m \u001B[43m         \u001B[49m\u001B[43mweight_decay\u001B[49m\u001B[38;5;241;43m=\u001B[39;49m\u001B[43mgroup\u001B[49m\u001B[43m[\u001B[49m\u001B[38;5;124;43m'\u001B[39;49m\u001B[38;5;124;43mweight_decay\u001B[39;49m\u001B[38;5;124;43m'\u001B[39;49m\u001B[43m]\u001B[49m\u001B[43m,\u001B[49m\n\u001B[0;32m    245\u001B[0m \u001B[43m         \u001B[49m\u001B[43meps\u001B[49m\u001B[38;5;241;43m=\u001B[39;49m\u001B[43mgroup\u001B[49m\u001B[43m[\u001B[49m\u001B[38;5;124;43m'\u001B[39;49m\u001B[38;5;124;43meps\u001B[39;49m\u001B[38;5;124;43m'\u001B[39;49m\u001B[43m]\u001B[49m\u001B[43m,\u001B[49m\n\u001B[0;32m    246\u001B[0m \u001B[43m         \u001B[49m\u001B[43mmaximize\u001B[49m\u001B[38;5;241;43m=\u001B[39;49m\u001B[43mgroup\u001B[49m\u001B[43m[\u001B[49m\u001B[38;5;124;43m'\u001B[39;49m\u001B[38;5;124;43mmaximize\u001B[39;49m\u001B[38;5;124;43m'\u001B[39;49m\u001B[43m]\u001B[49m\u001B[43m,\u001B[49m\n\u001B[0;32m    247\u001B[0m \u001B[43m         \u001B[49m\u001B[43mforeach\u001B[49m\u001B[38;5;241;43m=\u001B[39;49m\u001B[43mgroup\u001B[49m\u001B[43m[\u001B[49m\u001B[38;5;124;43m'\u001B[39;49m\u001B[38;5;124;43mforeach\u001B[39;49m\u001B[38;5;124;43m'\u001B[39;49m\u001B[43m]\u001B[49m\u001B[43m,\u001B[49m\n\u001B[0;32m    248\u001B[0m \u001B[43m         \u001B[49m\u001B[43mcapturable\u001B[49m\u001B[38;5;241;43m=\u001B[39;49m\u001B[43mgroup\u001B[49m\u001B[43m[\u001B[49m\u001B[38;5;124;43m'\u001B[39;49m\u001B[38;5;124;43mcapturable\u001B[39;49m\u001B[38;5;124;43m'\u001B[39;49m\u001B[43m]\u001B[49m\u001B[43m,\u001B[49m\n\u001B[0;32m    249\u001B[0m \u001B[43m         \u001B[49m\u001B[43mdifferentiable\u001B[49m\u001B[38;5;241;43m=\u001B[39;49m\u001B[43mgroup\u001B[49m\u001B[43m[\u001B[49m\u001B[38;5;124;43m'\u001B[39;49m\u001B[38;5;124;43mdifferentiable\u001B[39;49m\u001B[38;5;124;43m'\u001B[39;49m\u001B[43m]\u001B[49m\u001B[43m,\u001B[49m\n\u001B[0;32m    250\u001B[0m \u001B[43m         \u001B[49m\u001B[43mfused\u001B[49m\u001B[38;5;241;43m=\u001B[39;49m\u001B[43mgroup\u001B[49m\u001B[43m[\u001B[49m\u001B[38;5;124;43m'\u001B[39;49m\u001B[38;5;124;43mfused\u001B[39;49m\u001B[38;5;124;43m'\u001B[39;49m\u001B[43m]\u001B[49m\u001B[43m,\u001B[49m\n\u001B[0;32m    251\u001B[0m \u001B[43m         \u001B[49m\u001B[43mgrad_scale\u001B[49m\u001B[38;5;241;43m=\u001B[39;49m\u001B[43mgrad_scale\u001B[49m\u001B[43m,\u001B[49m\n\u001B[0;32m    252\u001B[0m \u001B[43m         \u001B[49m\u001B[43mfound_inf\u001B[49m\u001B[38;5;241;43m=\u001B[39;49m\u001B[43mfound_inf\u001B[49m\u001B[43m)\u001B[49m\n\u001B[0;32m    254\u001B[0m \u001B[38;5;28;01mreturn\u001B[39;00m loss\n",
      "File \u001B[1;32mD:\\PHD\\cgan\\venv\\lib\\site-packages\\torch\\optim\\adam.py:300\u001B[0m, in \u001B[0;36madam\u001B[1;34m(params, grads, exp_avgs, exp_avg_sqs, max_exp_avg_sqs, state_steps, foreach, capturable, differentiable, fused, grad_scale, found_inf, amsgrad, beta1, beta2, lr, weight_decay, eps, maximize)\u001B[0m\n\u001B[0;32m    297\u001B[0m \u001B[38;5;28;01melse\u001B[39;00m:\n\u001B[0;32m    298\u001B[0m     func \u001B[38;5;241m=\u001B[39m _single_tensor_adam\n\u001B[1;32m--> 300\u001B[0m \u001B[43mfunc\u001B[49m\u001B[43m(\u001B[49m\u001B[43mparams\u001B[49m\u001B[43m,\u001B[49m\n\u001B[0;32m    301\u001B[0m \u001B[43m     \u001B[49m\u001B[43mgrads\u001B[49m\u001B[43m,\u001B[49m\n\u001B[0;32m    302\u001B[0m \u001B[43m     \u001B[49m\u001B[43mexp_avgs\u001B[49m\u001B[43m,\u001B[49m\n\u001B[0;32m    303\u001B[0m \u001B[43m     \u001B[49m\u001B[43mexp_avg_sqs\u001B[49m\u001B[43m,\u001B[49m\n\u001B[0;32m    304\u001B[0m \u001B[43m     \u001B[49m\u001B[43mmax_exp_avg_sqs\u001B[49m\u001B[43m,\u001B[49m\n\u001B[0;32m    305\u001B[0m \u001B[43m     \u001B[49m\u001B[43mstate_steps\u001B[49m\u001B[43m,\u001B[49m\n\u001B[0;32m    306\u001B[0m \u001B[43m     \u001B[49m\u001B[43mamsgrad\u001B[49m\u001B[38;5;241;43m=\u001B[39;49m\u001B[43mamsgrad\u001B[49m\u001B[43m,\u001B[49m\n\u001B[0;32m    307\u001B[0m \u001B[43m     \u001B[49m\u001B[43mbeta1\u001B[49m\u001B[38;5;241;43m=\u001B[39;49m\u001B[43mbeta1\u001B[49m\u001B[43m,\u001B[49m\n\u001B[0;32m    308\u001B[0m \u001B[43m     \u001B[49m\u001B[43mbeta2\u001B[49m\u001B[38;5;241;43m=\u001B[39;49m\u001B[43mbeta2\u001B[49m\u001B[43m,\u001B[49m\n\u001B[0;32m    309\u001B[0m \u001B[43m     \u001B[49m\u001B[43mlr\u001B[49m\u001B[38;5;241;43m=\u001B[39;49m\u001B[43mlr\u001B[49m\u001B[43m,\u001B[49m\n\u001B[0;32m    310\u001B[0m \u001B[43m     \u001B[49m\u001B[43mweight_decay\u001B[49m\u001B[38;5;241;43m=\u001B[39;49m\u001B[43mweight_decay\u001B[49m\u001B[43m,\u001B[49m\n\u001B[0;32m    311\u001B[0m \u001B[43m     \u001B[49m\u001B[43meps\u001B[49m\u001B[38;5;241;43m=\u001B[39;49m\u001B[43meps\u001B[49m\u001B[43m,\u001B[49m\n\u001B[0;32m    312\u001B[0m \u001B[43m     \u001B[49m\u001B[43mmaximize\u001B[49m\u001B[38;5;241;43m=\u001B[39;49m\u001B[43mmaximize\u001B[49m\u001B[43m,\u001B[49m\n\u001B[0;32m    313\u001B[0m \u001B[43m     \u001B[49m\u001B[43mcapturable\u001B[49m\u001B[38;5;241;43m=\u001B[39;49m\u001B[43mcapturable\u001B[49m\u001B[43m,\u001B[49m\n\u001B[0;32m    314\u001B[0m \u001B[43m     \u001B[49m\u001B[43mdifferentiable\u001B[49m\u001B[38;5;241;43m=\u001B[39;49m\u001B[43mdifferentiable\u001B[49m\u001B[43m,\u001B[49m\n\u001B[0;32m    315\u001B[0m \u001B[43m     \u001B[49m\u001B[43mgrad_scale\u001B[49m\u001B[38;5;241;43m=\u001B[39;49m\u001B[43mgrad_scale\u001B[49m\u001B[43m,\u001B[49m\n\u001B[0;32m    316\u001B[0m \u001B[43m     \u001B[49m\u001B[43mfound_inf\u001B[49m\u001B[38;5;241;43m=\u001B[39;49m\u001B[43mfound_inf\u001B[49m\u001B[43m)\u001B[49m\n",
      "File \u001B[1;32mD:\\PHD\\cgan\\venv\\lib\\site-packages\\torch\\optim\\adam.py:363\u001B[0m, in \u001B[0;36m_single_tensor_adam\u001B[1;34m(params, grads, exp_avgs, exp_avg_sqs, max_exp_avg_sqs, state_steps, grad_scale, found_inf, amsgrad, beta1, beta2, lr, weight_decay, eps, maximize, capturable, differentiable)\u001B[0m\n\u001B[0;32m    360\u001B[0m     param \u001B[38;5;241m=\u001B[39m torch\u001B[38;5;241m.\u001B[39mview_as_real(param)\n\u001B[0;32m    362\u001B[0m \u001B[38;5;66;03m# Decay the first and second moment running average coefficient\u001B[39;00m\n\u001B[1;32m--> 363\u001B[0m \u001B[43mexp_avg\u001B[49m\u001B[38;5;241;43m.\u001B[39;49m\u001B[43mmul_\u001B[49m\u001B[43m(\u001B[49m\u001B[43mbeta1\u001B[49m\u001B[43m)\u001B[49m\u001B[38;5;241m.\u001B[39madd_(grad, alpha\u001B[38;5;241m=\u001B[39m\u001B[38;5;241m1\u001B[39m \u001B[38;5;241m-\u001B[39m beta1)\n\u001B[0;32m    364\u001B[0m exp_avg_sq\u001B[38;5;241m.\u001B[39mmul_(beta2)\u001B[38;5;241m.\u001B[39maddcmul_(grad, grad\u001B[38;5;241m.\u001B[39mconj(), value\u001B[38;5;241m=\u001B[39m\u001B[38;5;241m1\u001B[39m \u001B[38;5;241m-\u001B[39m beta2)\n\u001B[0;32m    366\u001B[0m \u001B[38;5;28;01mif\u001B[39;00m capturable \u001B[38;5;129;01mor\u001B[39;00m differentiable:\n",
      "\u001B[1;31mKeyboardInterrupt\u001B[0m: "
     ]
    }
   ],
   "source": [
    "# Train the CGAN\n",
    "for epoch in range(num_epochs):\n",
    "    for i, (data, label) in enumerate(train_data):\n",
    "        # Generate fake data with labels\n",
    "        noise = torch.randn(batch_size, 11)\n",
    "        if data.size()[0] < batch_size:\n",
    "            continue\n",
    "        fake_data = generator(torch.cat((noise, label), 1)) # concatenate noise and labels as input to generato\n",
    "\n",
    "        # Train the discriminator\n",
    "        disc_optimizer.zero_grad()\n",
    "        real_loss = criterion(discriminator(data), torch.ones(batch_size, 1))\n",
    "        fake_loss = criterion(discriminator(fake_data), torch.zeros(batch_size, 1))\n",
    "        disc_loss = real_loss + fake_loss\n",
    "        disc_loss.backward(retain_graph=True)\n",
    "        disc_optimizer.step()\n",
    "\n",
    "        # Train the generator\n",
    "        gen_optimizer.zero_grad()\n",
    "        gen_loss = criterion(discriminator(fake_data), torch.ones(batch_size, 1))\n",
    "        gen_loss.backward(retain_graph=True)\n",
    "        \"\"\"retain_graph tells the autograd engine to retain the intermediate values of the graph,\n",
    "        instead of freeing them, so that they can be used in the next backward pass.\"\"\"\n",
    "        gen_optimizer.step()\n",
    "\n",
    "    # predictions = discriminator(data)\n",
    "    # print(\"Predictions for real data: \", predictions, \"with label: \", label)\n",
    "    # predictions = discriminator(fake_data)\n",
    "    # print(\"Predictions for fake data: \", predictions, \"with label: \", label)\n",
    "    print(f\"Epoch {epoch + 1}: \")\n",
    "    print(f\"Generator Loss: {gen_loss}\")\n",
    "    print(f\"Discriminator Loss : {disc_loss}\")"
   ],
   "metadata": {
    "collapsed": false
   }
  },
  {
   "cell_type": "code",
   "execution_count": null,
   "outputs": [],
   "source": [
    "# Generate new data using the trained generator with a specific label\n",
    "label = 3  # specify the label you want the data to be generated for\n",
    "noise = torch.randn(batch_size, 11)\n",
    "label_tensor = torch.ones(batch_size, 1) * label  # create a tensor with the specified label\n",
    "generated_data = generator(torch.cat((noise, label_tensor), 1))\n",
    "\n",
    "# Print the generated data\n",
    "print(generated_data)"
   ],
   "metadata": {
    "collapsed": false
   }
  },
  {
   "cell_type": "code",
   "execution_count": null,
   "outputs": [],
   "source": [],
   "metadata": {
    "collapsed": false
   }
  },
  {
   "cell_type": "code",
   "execution_count": null,
   "outputs": [],
   "source": [],
   "metadata": {
    "collapsed": false
   }
  },
  {
   "cell_type": "code",
   "execution_count": null,
   "outputs": [],
   "source": [
    "# Assign the GPU device to be used\n",
    "device = torch.device(\"cuda\" if torch.cuda.is_available() else \"cpu\")\n",
    "\n",
    "# Move the models and tensors to the GPU\n",
    "generator.to(device)\n",
    "discriminator.to(device)\n",
    "criterion.to(device)\n",
    "\n",
    "for epoch in range(num_epochs):\n",
    "    for i, data in enumerate(train_data):\n",
    "        # Move the data tensor to the GPU\n",
    "        data = data.to(device)\n",
    "        # Generate fake data with labels\n",
    "        noise = torch.randn(batch_size, 11).to(device)\n",
    "        labels = torch.randint(0, num_classes, (batch_size, 1)).to(device)  # generate random labels\n",
    "        fake_data = generator(torch.cat((noise, labels), 1))  # concatenate noise and labels as input to generator\n",
    "        .\n",
    "        .\n",
    "        .\n"
   ],
   "metadata": {
    "collapsed": false
   }
  },
  {
   "cell_type": "code",
   "execution_count": null,
   "outputs": [],
   "source": [
    "# Define the list of class labels\n",
    "class_labels = [3, 6, 8, 12, 15, 20]\n",
    "num_classes = len(class_labels)\n",
    "\n",
    "# Generate a random permutation of the class labels\n",
    "random_indices = torch.randperm(num_classes)\n",
    "\n",
    "# Create a tensor of random class labels\n",
    "random_class_labels = torch.tensor([class_labels[i] for i in random_indices])\n",
    "\n",
    "for epoch in range(num_epochs):\n",
    "    for i, data in enumerate(train_data):\n",
    "        # Generate random class labels\n",
    "        random_indices = torch.randint(0, num_classes, (batch_size, 1))\n",
    "        labels = random_class_labels[random_indices]\n",
    "        .\n",
    "        .\n",
    "        .\n"
   ],
   "metadata": {
    "collapsed": false
   }
  },
  {
   "cell_type": "code",
   "execution_count": null,
   "outputs": [],
   "source": [
    "for i, (data, label) in enumerate(train_data):\n",
    "    # Generate fake data with labels\n",
    "    noise = torch.randn(batch_size, 11)\n",
    "    fake_data = generator(torch.cat((noise, label), 1))\n",
    "    predictions = discriminator(data)\n",
    "    print(\"Predictions for real data: \", predictions)\n",
    "    predictions = discriminator(fake_data)\n",
    "    print(\"Predictions for fake data: \", predictions)\n",
    "\n",
    "\n",
    "for i, (data, label) in enumerate(train_data):\n",
    "    # Generate fake data with labels\n",
    "    noise = torch.randn(batch_size, 11)\n",
    "    fake_data = generator(torch.cat((noise, label), 1))\n",
    "    predictions = discriminator(data)\n",
    "    print(\"Predictions for real data: \", predictions, \"with label: \", label)\n",
    "    predictions = discriminator(fake_data)\n",
    "    print(\"Predictions for fake data: \", predictions, \"with label: \", label)\n"
   ],
   "metadata": {
    "collapsed": false
   }
  }
 ],
 "metadata": {
  "kernelspec": {
   "display_name": "Python 3",
   "language": "python",
   "name": "python3"
  },
  "language_info": {
   "codemirror_mode": {
    "name": "ipython",
    "version": 2
   },
   "file_extension": ".py",
   "mimetype": "text/x-python",
   "name": "python",
   "nbconvert_exporter": "python",
   "pygments_lexer": "ipython2",
   "version": "2.7.6"
  }
 },
 "nbformat": 4,
 "nbformat_minor": 0
}
